{
 "cells": [
  {
   "cell_type": "markdown",
   "id": "5cc709c8-3cd2-40fc-aa66-030b57d065ad",
   "metadata": {},
   "source": [
    "* https://www.geeksforgeeks.org/fundamentals-of-algorithms/?ref=shm\n",
    "* https://www.geeksforgeeks.org/greedy-algorithms/"
   ]
  },
  {
   "cell_type": "markdown",
   "id": "92f30e4f-6196-4ff3-914d-1b991932a262",
   "metadata": {},
   "source": [
    "## What Is Greedy Algorithm?\n",
    "\r",
    "A Greedy algorithm is an approach to solving a problem that selects the most appropriate option based on the current situation. This algorithm ignores the fact that the current best result may not bring about the overall optimal result. Even if the initial decision was incorrect, the algorithm never reverses it.\r\n",
    "\r\n",
    "This simple, intuitive algorithm can be applied to solve any optimization problem which requires the maximum or minimum optimum result. The best thing about this algorithm is that it is easy to understand and implement.\r\n",
    "\r\n",
    "The runtime complexity associated with a greedy solution is pretty reasonable. However, you can implement a greedy solution only if the problem statement follows two properties mentioned below: \r\n",
    "\r\n",
    "**Greedy Choice Property:** Choosing the best option at each phase can lead to a global (overall) optimal solution.\r\n",
    "\r\n",
    "**Optimal Substructure:** If an optimal solution to the complete problem contains the optimal solutions to the subproblems, the problem has an optimal substructure.\r\n",
    "\r\n",
    "Moving forward, we will learn how to create a greedy solution for a problem that adheres to the principles listed above.\r\n",
    "\r\n",
    "Steps for Creating a Greedy Algorithm\r\n",
    "By following the steps given below, you will be able to formulate a greedy solution for the given problem statement:\r\n",
    "\r\n",
    "- Step 1: In a given problem, find the best substructure or subproblem.\r\n",
    "- Step 2: Determine what the solution will include (e.g., largest sum, shortest path).\r\n",
    "- Step 3: Create an iterative process for going over all subproblems and creating an optimum solution.\n",
    "  ptimum solution.eating an optimum solution.\r\n"
   ]
  },
  {
   "cell_type": "markdown",
   "id": "942e5d63-7124-4a32-ad19-7f1fe0658ebf",
   "metadata": {},
   "source": [
    "Greedy algorithms are a class of algorithms that make locally optimal choices at each step with the hope of finding a global optimum solution. They are particularly useful for solving problems where a sequence of choices must be made, and the goal is to find the best overall solution. Here are some common types of problems that can be solved using greedy algorithms:\r\n",
    "\r\n",
    "1. **Minimum Spanning Tree**: Greedy algorithms like Kruskal's and Prim's can be used to find the minimum spanning tree in a weighted graph, which is useful in network design and clustering.\r\n",
    "\r\n",
    "2. **Shortest Path**: Dijkstra's algorithm, which is a greedy algorithm, is used to find the shortest path in a weighted graph. It's commonly used in routing and navigation applications.\r\n",
    "\r\n",
    "3. **Huffman Coding**: Greedy algorithms are used to generate variable-length codes for data compression. Huffman coding is a popular example of this.\r\n",
    "\r\n",
    "4. **Coin Change**: Greedy algorithms can be used to find the minimum number of coins needed to make a certain amount of change. However, they may not always work for arbitrary coin systems.\r\n",
    "\r\n",
    "5. **Fractional Knapsack**: In this problem, the goal is to maximize the value of items that can be included in a knapsack with a limited capacity, while fractions of items can be taken.\r\n",
    "\r\n",
    "6. **Job Scheduling**: Greedy algorithms can be used to schedule a set of tasks or jobs to maximize efficiency or minimize completion time. The classic example is the \"Interval Scheduling Problem.\"\r\n",
    "\r\n",
    "7. **Activity Selection**: In this problem, you have a set of activities with start and end times, and the goal is to select a maximum number of non-overlapping activities.\r\n",
    "\r\n",
    "8. **Minimum Vertex Cover**: Greedy algorithms can be used to find a minimum vertex cover in a graph, which is relevant in various network optimization problems.\r\n",
    "\r\n",
    "9. **Set Cover**: In this problem, you want to find the smallest set of sets that cover all elements from a given universe. Greedy algorithms can provide approximate solutions.\r\n",
    "\r\n",
    "10. **Travelling Salesman Problem (TSP)**: While TSP is primarily solved using dynamic programming or other methods, greedy algorithms can provide heuristic solutions for large instances of the problem.\r\n",
    "\r\n",
    "It's important to note that greedy algorithms do not always guarantee an optimal solution and may not work for all problems. Their effectiveness depends on the specific problem constraints and the choice of the greedy criterion. In some cases, they can provide fast and reasonably good solutions, making them valuable tools for a wide range of optimization and decision-making problems."
   ]
  },
  {
   "cell_type": "markdown",
   "id": "21cae4a5-1a39-47f9-85fb-c8abfa52e6fb",
   "metadata": {},
   "source": [
    "# **Knapsack Problem**\n",
    "\n",
    "The Knapsack Problem is a classic optimization problem in computer science and mathematics. It can be described as follows:\n",
    "\n",
    "**Problem Statement:**\r\n",
    "The knapsack problem states that − given a set of items, holding weights and profit values, one must determine the subset of the items to be added in a knapsack such that, the total weight of the items must not exceed the limit of the knapsack and its total profit value is maximum.\n",
    "ty.\r\n",
    "\r\n",
    "**Components of the Problem:**\r\n",
    "1. **Items:** There is a finite set of items, each with an associated weight (w_i) and value (v_i), where 'i' is an index representing each item.\r\n",
    "\r\n",
    "2. **Knapsack Capacity:** You have a knapsack with a maximum weight capacity 'W' (a non-negative integer).\r\n",
    "\r\n",
    "**Objective:**\r\n",
    "The objective of the Knapsack Problem is to find a subset of items to include in the knapsack such that the total weight of the selected items does not exceed 'W', and the total value of the selected items is maximized.\r\n",
    "\r\n",
    "**Variants of the Knapsack Problem:**\r\n",
    "1. **0/1 Knapsack Problem:** In this version, you can either select an item (0) or leave it (1), meaning you cannot take a fractional part of an item.\r\n",
    "\r\n",
    "2. **Fractional Knapsack Problem:** In this variant, you can take fractional parts of items, meaning you don't have to take a whole item. This allows for selecting a fraction of an item to maximize the value per unit weight.\r\n",
    "\r\n",
    "3. **Multiple Knapsack Problem:** In this version, there are multiple knapsacks, each with its weight capacity, and you need to allocate items to these knapsacks while maximizing the total value.\r\n",
    "\r\n",
    "**Solving the Knapsack Problem:**\r\n",
    "Solving the Knapsack Problem can be achieved through various algorithms and techniques, including:\r\n",
    "\r\n",
    "1. **Dynamic Programming:** This is the most common method to solve the 0/1 Knapsack Problem. It involves creating a table to store intermediate solutions and iteratively building the solution from smaller subproblems.\r\n",
    "\r\n",
    "2. **Greedy Algorithm:** The fractional knapsack problem can be solved using a greedy algorithm by selecting items with the highest value-to-weight ratio first.\r\n",
    "\r\n",
    "3. **Branch and Bound:** A more advanced technique that can be used to solve the 0/1 Knapsack Problem, often providing an optimal solution.\r\n",
    "\r\n",
    "4. **Integer Linear Programming:** The Knapsack Problem can be formulated as an integer linear programming problem and solved using linear programming solvers.\r\n",
    "\r\n",
    "The choice of the solution method depends on the specific variant of the Knapsack Problem, the size of the problem, and the need for an optimal or approximate solution.\r\n",
    "\r\n",
    "The Knapsack Problem has applications in various fields, including operations research, economics, resource allocation, and logistics, and it serves as a fundamental problem in combinatorial optimization."
   ]
  },
  {
   "cell_type": "markdown",
   "id": "7ae9d3dd-43b3-4058-ae76-8c97b7f7d5f4",
   "metadata": {},
   "source": [
    "### **1. Fractional Knapsack Problem**"
   ]
  },
  {
   "cell_type": "code",
   "execution_count": 4,
   "id": "c1a8bd16-ed02-4018-8a1c-d50bc4fda158",
   "metadata": {},
   "outputs": [
    {
     "name": "stdout",
     "output_type": "stream",
     "text": [
      "[(1.3888888888888888, 0), (1.6, 1), (1.5, 2)]\n",
      "[(1.6, 1), (1.5, 2), (1.3888888888888888, 0)]\n",
      "Maximum value: 31.5\n",
      "Selected items: [0, 1, 0]\n"
     ]
    }
   ],
   "source": [
    "# Let's define a function\n",
    "def fractional_knapsack(profites, weights, capacity):\n",
    "    # Greedy about profite and weights both\n",
    "    value_per_weight = [(profites[i] / weights[i], i) for i in range(len(weights))]\n",
    "    print(value_per_weight)\n",
    "    # Sort the values\n",
    "    value_per_weight.sort(reverse=True)\n",
    "    print(value_per_weight)\n",
    "\n",
    "    max_value = 0\n",
    "    items_taken = [0] * len(weights)\n",
    "\n",
    "    for v_w, i in value_per_weight:\n",
    "        if weights[i] <= capacity:\n",
    "            max_value += profites[i]\n",
    "            capacity -= weights[i]\n",
    "            items_taken[i] = 1\n",
    "        else:\n",
    "            max_value += (capacity / weights[i]) * profites[i]\n",
    "            break\n",
    "\n",
    "    return max_value, items_taken\n",
    "    \n",
    "\n",
    "\n",
    "\n",
    "profites = [25, 24, 15]\n",
    "weights = [18, 15, 10]\n",
    "knapsack_capacity = 20\n",
    "\n",
    "max_value, selected_items = fractional_knapsack(profites=profites, weights=weights, capacity=knapsack_capacity)\n",
    "\n",
    "print(\"Maximum value:\", max_value)\n",
    "\n",
    "print(\"Selected items:\", selected_items)"
   ]
  },
  {
   "cell_type": "code",
   "execution_count": null,
   "id": "dd68bef9-efe6-4d7e-9ce0-310960c1ace9",
   "metadata": {},
   "outputs": [],
   "source": []
  }
 ],
 "metadata": {
  "kernelspec": {
   "display_name": "Python 3 (ipykernel)",
   "language": "python",
   "name": "python3"
  },
  "language_info": {
   "codemirror_mode": {
    "name": "ipython",
    "version": 3
   },
   "file_extension": ".py",
   "mimetype": "text/x-python",
   "name": "python",
   "nbconvert_exporter": "python",
   "pygments_lexer": "ipython3",
   "version": "3.11.5"
  }
 },
 "nbformat": 4,
 "nbformat_minor": 5
}

{
 "cells": [
  {
   "cell_type": "markdown",
   "metadata": {},
   "source": [
    "### Add Node Using Adjacency Matrix"
   ]
  },
  {
   "cell_type": "code",
   "execution_count": 5,
   "metadata": {},
   "outputs": [
    {
     "name": "stdout",
     "output_type": "stream",
     "text": [
      "Before adding node\n",
      "[]\n",
      "[]\n",
      "After adding node\n",
      "B is already present in the graph\n",
      "[[0, 0, 0, 0], [0, 0, 0, 0], [0, 0, 0, 0], [0, 0, 0, 0]]\n",
      "0 0 0 0 \n",
      "0 0 0 0 \n",
      "0 0 0 0 \n",
      "0 0 0 0 \n"
     ]
    }
   ],
   "source": [
    "def add_node(node):\n",
    "    global node_count\n",
    "    if node in nodes:\n",
    "        print(f\"{node} is already present in the graph\")\n",
    "    else:\n",
    "        node_count += 1\n",
    "        nodes.append(node)\n",
    "\n",
    "        for n in adjacent_matrix: # Add a column value for each adjacent node\n",
    "            n.append(0)\n",
    "        \n",
    "        temp = []\n",
    "\n",
    "        for i in range(node_count): \n",
    "            temp.append(0)\n",
    "        adjacent_matrix.append(temp)\n",
    "\n",
    "def print_graph():\n",
    "    for i in range(node_count):\n",
    "        for j in range(node_count):\n",
    "            print(adjacent_matrix[i][j], end=\" \")\n",
    "        print()\n",
    "\n",
    "nodes = []\n",
    "adjacent_matrix = []\n",
    "node_count = 0\n",
    "print(\"Before adding node\")\n",
    "print(nodes)\n",
    "print(adjacent_matrix)\n",
    "print(\"After adding node\")\n",
    "add_node(\"A\")\n",
    "add_node(\"B\")\n",
    "add_node(\"B\")\n",
    "add_node(\"C\")\n",
    "add_node(\"D\")\n",
    "print(graph)\n",
    "print_graph()"
   ]
  }
 ],
 "metadata": {
  "kernelspec": {
   "display_name": "env311",
   "language": "python",
   "name": "python3"
  },
  "language_info": {
   "codemirror_mode": {
    "name": "ipython",
    "version": 3
   },
   "file_extension": ".py",
   "mimetype": "text/x-python",
   "name": "python",
   "nbconvert_exporter": "python",
   "pygments_lexer": "ipython3",
   "version": "3.11.5"
  }
 },
 "nbformat": 4,
 "nbformat_minor": 2
}

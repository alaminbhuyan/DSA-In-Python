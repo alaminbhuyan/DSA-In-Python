{
 "cells": [
  {
   "cell_type": "code",
   "execution_count": 1,
   "metadata": {},
   "outputs": [],
   "source": [
    "# To print all the results\n",
    "from IPython.core.interactiveshell import InteractiveShell\n",
    "InteractiveShell.ast_node_interactivity = \"all\""
   ]
  },
  {
   "cell_type": "code",
   "execution_count": 2,
   "metadata": {},
   "outputs": [],
   "source": [
    "# Define the class of binary search tree\n",
    "\n",
    "class BinarySearchTree:\n",
    "    def __init__(self, key):\n",
    "        self.key = key\n",
    "        self.left_child = None\n",
    "        self.right_child = None"
   ]
  },
  {
   "cell_type": "code",
   "execution_count": 3,
   "metadata": {},
   "outputs": [
    {
     "data": {
      "text/plain": [
       "100"
      ]
     },
     "execution_count": 3,
     "metadata": {},
     "output_type": "execute_result"
    },
    {
     "data": {
      "text/plain": [
       "<__main__.BinarySearchTree at 0x298a6ab4410>"
      ]
     },
     "execution_count": 3,
     "metadata": {},
     "output_type": "execute_result"
    }
   ],
   "source": [
    "root = BinarySearchTree(key=100)\n",
    "root.left_child = BinarySearchTree(80)\n",
    "\n",
    "root.key\n",
    "root.left_child"
   ]
  },
  {
   "cell_type": "code",
   "execution_count": 9,
   "metadata": {},
   "outputs": [
    {
     "name": "stdout",
     "output_type": "stream",
     "text": [
      "Pre-order:\n",
      "20 5 10 30 45 \n",
      "In-order:\n",
      "5 10 20 30 45 \n",
      "Post-order:\n",
      "10 5 45 30 20 \n",
      "Node with smallest key is:  5\n",
      "Node with largest key is:  45\n"
     ]
    }
   ],
   "source": [
    "# Define the class of binary search tree\n",
    "\n",
    "class BinarySearchTree:\n",
    "    def __init__(self, key):\n",
    "        self.key = key\n",
    "        self.left_child = None\n",
    "        self.right_child = None\n",
    "    \n",
    "    # Create the insertion method\n",
    "    def insertNode(self, data):\n",
    "        # First check the root node empty or not\n",
    "        if self.key is None:\n",
    "            self.key = data\n",
    "            return\n",
    "        if self.key == data: # To ignore the duplicates values\n",
    "            return \n",
    "        if self.key > data:\n",
    "            if self.left_child:\n",
    "                self.left_child.insertNode(data=data) # Recursively insert\n",
    "            else:\n",
    "                self.left_child = BinarySearchTree(key=data)\n",
    "        else:\n",
    "            if self.right_child:\n",
    "                self.right_child.insertNode(data=data) # Recursively insert\n",
    "            else:\n",
    "                self.right_child = BinarySearchTree(key=data)\n",
    "    \n",
    "    # Create search method for search a particular value from the tree\n",
    "    def searchNode(self, data):\n",
    "        if self.key == data:\n",
    "            print(\"Node is Found\")\n",
    "            return\n",
    "        if self.key > data:\n",
    "            if self.left_child:\n",
    "                self.left_child.searchNode(data=data) # Recursively search\n",
    "            else:\n",
    "                print(\"Node is not present in the tree\")\n",
    "        else:\n",
    "            if self.right_child:\n",
    "                self.right_child.searchNode(data=data) # Recursively search\n",
    "            else:\n",
    "                print(\"Node is not present in the tree\")\n",
    "    \n",
    "    # Create Pre-order traversal method (root --> left child --> right child)\n",
    "    # https://www.youtube.com/watch?v=MV3nPSok0QQ&list=PLzgPDYo_3xukPJdH6hVQ6Iic7KiJuoA-l&index=46\n",
    "    def pre_order_traverse(self):\n",
    "        print(self.key, end=\" \") # traverse the root key\n",
    "\n",
    "        if self.left_child:\n",
    "            self.left_child.pre_order_traverse()\n",
    "\n",
    "        if self.right_child:\n",
    "            self.right_child.pre_order_traverse()\n",
    "    \n",
    "    # Create In-order traversal method (left child --> root --> right child)\n",
    "    def in_order_traverse(self):\n",
    "        if self.left_child:\n",
    "            self.left_child.in_order_traverse()\n",
    "        print(self.key, end=\" \") # traverse the root key\n",
    "        if self.right_child:\n",
    "            self.right_child.in_order_traverse()\n",
    "    \n",
    "    # Create Post-order traversal method (left child --> right child --> root)\n",
    "    def post_order_traverse(self):\n",
    "        if self.left_child:\n",
    "            self.left_child.post_order_traverse()\n",
    "\n",
    "        if self.right_child:\n",
    "            self.right_child.post_order_traverse()\n",
    "        \n",
    "        print(self.key, end=\" \") # traverse the root key\n",
    "    \n",
    "    # Create minNode function to find out the min node in the tree\n",
    "    def minNode(self):\n",
    "        current = self # point to the current node as root node\n",
    "        while current.left_child:\n",
    "            current = current.left_child\n",
    "        print(\"Node with smallest key is: \", current.key)\n",
    "    \n",
    "    # Create maxNode function to find out the min node in the tree\n",
    "    def maxNode(self):\n",
    "        current = self # point to the current node as root node\n",
    "        while current.right_child:\n",
    "            current = current.right_child\n",
    "        print(\"Node with largest key is: \", current.key)\n",
    "\n",
    "\n",
    "\n",
    "root = BinarySearchTree(key=None)\n",
    "# root.insertNode(data=20)\n",
    "list1 = [20,5,10,30,45]\n",
    "\n",
    "for i in list1: # Insert multiple node one by one\n",
    "    root.insertNode(data=i)\n",
    "\n",
    "# root.searchNode(45)\n",
    "print(\"Pre-order:\")\n",
    "root.pre_order_traverse()\n",
    "print()\n",
    "print(\"In-order:\")\n",
    "root.in_order_traverse()\n",
    "print()\n",
    "print(\"Post-order:\")\n",
    "root.post_order_traverse()\n",
    "print()\n",
    "root.minNode()\n",
    "root.maxNode()"
   ]
  },
  {
   "cell_type": "code",
   "execution_count": 5,
   "metadata": {},
   "outputs": [
    {
     "name": "stdout",
     "output_type": "stream",
     "text": [
      "None\n"
     ]
    }
   ],
   "source": []
  },
  {
   "cell_type": "code",
   "execution_count": null,
   "metadata": {},
   "outputs": [],
   "source": []
  }
 ],
 "metadata": {
  "kernelspec": {
   "display_name": "env311",
   "language": "python",
   "name": "python3"
  },
  "language_info": {
   "codemirror_mode": {
    "name": "ipython",
    "version": 3
   },
   "file_extension": ".py",
   "mimetype": "text/x-python",
   "name": "python",
   "nbconvert_exporter": "python",
   "pygments_lexer": "ipython3",
   "version": "3.11.5"
  }
 },
 "nbformat": 4,
 "nbformat_minor": 2
}

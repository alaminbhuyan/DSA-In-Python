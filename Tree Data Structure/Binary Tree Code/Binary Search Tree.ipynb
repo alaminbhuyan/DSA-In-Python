{
 "cells": [
  {
   "cell_type": "code",
   "execution_count": 1,
   "metadata": {},
   "outputs": [],
   "source": [
    "# To print all the results\n",
    "from IPython.core.interactiveshell import InteractiveShell\n",
    "InteractiveShell.ast_node_interactivity = \"all\""
   ]
  },
  {
   "cell_type": "code",
   "execution_count": 2,
   "metadata": {},
   "outputs": [],
   "source": [
    "# Define the class of binary search tree\n",
    "\n",
    "class BinarySearchTree:\n",
    "    def __init__(self, key):\n",
    "        self.key = key\n",
    "        self.left_child = None\n",
    "        self.right_child = None"
   ]
  },
  {
   "cell_type": "code",
   "execution_count": 3,
   "metadata": {},
   "outputs": [
    {
     "data": {
      "text/plain": [
       "100"
      ]
     },
     "execution_count": 3,
     "metadata": {},
     "output_type": "execute_result"
    },
    {
     "data": {
      "text/plain": [
       "<__main__.BinarySearchTree at 0x298a6ab4410>"
      ]
     },
     "execution_count": 3,
     "metadata": {},
     "output_type": "execute_result"
    }
   ],
   "source": [
    "root = BinarySearchTree(key=100)\n",
    "root.left_child = BinarySearchTree(80)\n",
    "\n",
    "root.key\n",
    "root.left_child"
   ]
  },
  {
   "cell_type": "code",
   "execution_count": 7,
   "metadata": {},
   "outputs": [
    {
     "name": "stdout",
     "output_type": "stream",
     "text": [
      "Node is Found\n"
     ]
    }
   ],
   "source": [
    "# Define the class of binary search tree\n",
    "\n",
    "class BinarySearchTree:\n",
    "    def __init__(self, key):\n",
    "        self.key = key\n",
    "        self.left_child = None\n",
    "        self.right_child = None\n",
    "    \n",
    "    # Create the insertion method\n",
    "    def insertNode(self, data):\n",
    "        # First check the root node empty or not\n",
    "        if self.key is None:\n",
    "            self.key = data\n",
    "            return\n",
    "        if self.key == data: # To ignore the duplicates values\n",
    "            return \n",
    "        if self.key > data:\n",
    "            if self.left_child:\n",
    "                self.left_child.insertNode(data=data) # Recursively insert\n",
    "            else:\n",
    "                self.left_child = BinarySearchTree(key=data)\n",
    "        else:\n",
    "            if self.right_child:\n",
    "                self.right_child.insertNode(data=data) # Recursively insert\n",
    "            else:\n",
    "                self.right_child = BinarySearchTree(key=data)\n",
    "    \n",
    "    # Create search method for search a particular value from the tree\n",
    "    def searchNode(self, data):\n",
    "        if self.key == data:\n",
    "            print(\"Node is Found\")\n",
    "            return\n",
    "        if self.key > data:\n",
    "            if self.left_child:\n",
    "                self.left_child.searchNode(data=data) # Recursively search\n",
    "            else:\n",
    "                print(\"Node is not present in the tree\")\n",
    "        else:\n",
    "            if self.right_child:\n",
    "                self.right_child.searchNode(data=data) # Recursively search\n",
    "            else:\n",
    "                print(\"Node is not present in the tree\")\n",
    "\n",
    "\n",
    "root = BinarySearchTree(key=None)\n",
    "# root.insertNode(data=20)\n",
    "list1 = [20,5,10,30,45]\n",
    "\n",
    "for i in list1: # Insert multiple node one by one\n",
    "    root.insertNode(data=i)\n",
    "\n",
    "root.searchNode(45)"
   ]
  },
  {
   "cell_type": "code",
   "execution_count": 5,
   "metadata": {},
   "outputs": [
    {
     "name": "stdout",
     "output_type": "stream",
     "text": [
      "None\n"
     ]
    }
   ],
   "source": [
    "def something(data):\n",
    "    if data == 2:\n",
    "        return\n",
    "\n",
    "x = something(2)\n",
    "print(x)"
   ]
  },
  {
   "cell_type": "code",
   "execution_count": null,
   "metadata": {},
   "outputs": [],
   "source": []
  }
 ],
 "metadata": {
  "kernelspec": {
   "display_name": "env311",
   "language": "python",
   "name": "python3"
  },
  "language_info": {
   "codemirror_mode": {
    "name": "ipython",
    "version": 3
   },
   "file_extension": ".py",
   "mimetype": "text/x-python",
   "name": "python",
   "nbconvert_exporter": "python",
   "pygments_lexer": "ipython3",
   "version": "3.11.5"
  }
 },
 "nbformat": 4,
 "nbformat_minor": 2
}
